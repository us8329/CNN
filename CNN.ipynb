{
  "nbformat": 4,
  "nbformat_minor": 0,
  "metadata": {
    "colab": {
      "name": "CNN.ipynb",
      "provenance": []
    },
    "kernelspec": {
      "name": "python3",
      "display_name": "Python 3"
    },
    "language_info": {
      "name": "python"
    }
  },
  "cells": [
    {
      "cell_type": "code",
      "source": [
        "import tensorflow as tf\n",
        "from tensorflow.keras import datasets , layers , models\n",
        "import matplotlib.pyplot as plt\n",
        "import numpy as np"
      ],
      "metadata": {
        "id": "yxMS1VWOXLJY"
      },
      "execution_count": 1,
      "outputs": []
    },
    {
      "cell_type": "code",
      "source": [
        "(X_train , y_train) , (X_test , y_test) = datasets.cifar10.load_data()\n",
        "X_train.shape"
      ],
      "metadata": {
        "colab": {
          "base_uri": "https://localhost:8080/"
        },
        "id": "GLXNPG5MXbb3",
        "outputId": "fd226811-8f2c-48ef-a8b7-a2ae71b6cf8e"
      },
      "execution_count": 2,
      "outputs": [
        {
          "output_type": "stream",
          "name": "stdout",
          "text": [
            "Downloading data from https://www.cs.toronto.edu/~kriz/cifar-10-python.tar.gz\n",
            "170500096/170498071 [==============================] - 4s 0us/step\n",
            "170508288/170498071 [==============================] - 4s 0us/step\n"
          ]
        },
        {
          "output_type": "execute_result",
          "data": {
            "text/plain": [
              "(50000, 32, 32, 3)"
            ]
          },
          "metadata": {},
          "execution_count": 2
        }
      ]
    },
    {
      "cell_type": "code",
      "source": [
        "X_test.shape"
      ],
      "metadata": {
        "colab": {
          "base_uri": "https://localhost:8080/"
        },
        "id": "lkQ7n7YLXrob",
        "outputId": "e2ed1c2a-88c4-4388-88c9-f380606cb566"
      },
      "execution_count": 3,
      "outputs": [
        {
          "output_type": "execute_result",
          "data": {
            "text/plain": [
              "(10000, 32, 32, 3)"
            ]
          },
          "metadata": {},
          "execution_count": 3
        }
      ]
    },
    {
      "cell_type": "code",
      "source": [
        "y_train.shape"
      ],
      "metadata": {
        "colab": {
          "base_uri": "https://localhost:8080/"
        },
        "id": "wqFZh8vQYwVr",
        "outputId": "141544c3-c11f-476d-e4c4-79ffcfd70414"
      },
      "execution_count": 4,
      "outputs": [
        {
          "output_type": "execute_result",
          "data": {
            "text/plain": [
              "(50000, 1)"
            ]
          },
          "metadata": {},
          "execution_count": 4
        }
      ]
    },
    {
      "cell_type": "code",
      "source": [
        "#to reshape the Y_train from a 2d array to 1d\n",
        "y_train = y_train.reshape(-1,)\n",
        "y_train[:5]"
      ],
      "metadata": {
        "colab": {
          "base_uri": "https://localhost:8080/"
        },
        "id": "0SnVVuISY06_",
        "outputId": "416a905a-bf0e-4da1-a592-de3c4691bef9"
      },
      "execution_count": 5,
      "outputs": [
        {
          "output_type": "execute_result",
          "data": {
            "text/plain": [
              "array([6, 9, 9, 4, 1], dtype=uint8)"
            ]
          },
          "metadata": {},
          "execution_count": 5
        }
      ]
    },
    {
      "cell_type": "code",
      "source": [
        "classes = [\"airplane\" , \"automobile\" , \"bird\" , \"cat\", \"deer\", \"dog\",\"frog\" , \"horse\",\"ship\",\"truck\"]"
      ],
      "metadata": {
        "id": "VhlQgDmFYVF-"
      },
      "execution_count": 6,
      "outputs": []
    },
    {
      "cell_type": "code",
      "source": [
        "def plot_sample(X,y,index):\n",
        "  plt.figure(figsize=(15,2))\n",
        "  plt.imshow(X[index])\n",
        "  plt.xlabel(classes[y[index]])\n"
      ],
      "metadata": {
        "id": "Nw6WPzuTXvJQ"
      },
      "execution_count": 7,
      "outputs": []
    },
    {
      "cell_type": "code",
      "source": [
        "plot_sample(X_train , y_train , 0)"
      ],
      "metadata": {
        "colab": {
          "base_uri": "https://localhost:8080/",
          "height": 173
        },
        "id": "_mjguBRbX5fU",
        "outputId": "44bcd256-4380-44c5-9569-8034e7bfedf4"
      },
      "execution_count": 8,
      "outputs": [
        {
          "output_type": "display_data",
          "data": {
            "image/png": "[encoded data removed]",
            "text/plain": [
              "<Figure size 1080x144 with 1 Axes>"
            ]
          },
          "metadata": {
            "needs_background": "light"
          }
        }
      ]
    },
    {
      "cell_type": "code",
      "source": [
        " #to normalize the rgb values from a range of 0 to 1\n",
        " X_train = X_train/255\n",
        " X_test = X_test/255"
      ],
      "metadata": {
        "id": "v-W0o6SCZXjd"
      },
      "execution_count": 9,
      "outputs": []
    },
    {
      "cell_type": "markdown",
      "source": [
        "Artifical neural network accuracy ranges in the 40% \n"
      ],
      "metadata": {
        "id": "W2ElIy6meCaT"
      }
    },
    {
      "cell_type": "code",
      "source": [
        "#ann is artificial neural network\n",
        "ann = models.Sequential([\n",
        "                         layers.Flatten(input_shape=(32,32,3)),\n",
        "                         layers.Dense(3000 , activation = 'relu'),\n",
        "                         layers.Dense(1000 , activation='relu'),\n",
        "                         layers.Dense(10,activation = 'sigmoid')\n",
        "])\n",
        "ann.compile(optimizer = 'SGD',\n",
        "            loss='sparse_categorical_crossentropy',\n",
        "            metrics=['accuracy'])\n",
        "ann.fit(X_train , y_train,epochs=5)"
      ],
      "metadata": {
        "colab": {
          "base_uri": "https://localhost:8080/"
        },
        "id": "Jt7NL0vZZw_u",
        "outputId": "87044c13-7caa-4583-db5c-8f280a71ee63"
      },
      "execution_count": 10,
      "outputs": [
        {
          "output_type": "stream",
          "name": "stdout",
          "text": [
            "Epoch 1/5\n",
            "1563/1563 [==============================] - 92s 59ms/step - loss: 1.8091 - accuracy: 0.3582\n",
            "Epoch 2/5\n",
            "1563/1563 [==============================] - 91s 58ms/step - loss: 1.6238 - accuracy: 0.4283\n",
            "Epoch 3/5\n",
            "1563/1563 [==============================] - 91s 58ms/step - loss: 1.5413 - accuracy: 0.4561\n",
            "Epoch 4/5\n",
            "1563/1563 [==============================] - 91s 58ms/step - loss: 1.4836 - accuracy: 0.4774\n",
            "Epoch 5/5\n",
            "1563/1563 [==============================] - 91s 58ms/step - loss: 1.4355 - accuracy: 0.4961\n"
          ]
        },
        {
          "output_type": "execute_result",
          "data": {
            "text/plain": [
              "<keras.callbacks.History at 0x7fa42cd981d0>"
            ]
          },
          "metadata": {},
          "execution_count": 10
        }
      ]
    },
    {
      "cell_type": "code",
      "source": [
        "ann.evaluate(X_test , y_test)"
      ],
      "metadata": {
        "colab": {
          "base_uri": "https://localhost:8080/"
        },
        "id": "QBHFTA2EbR2X",
        "outputId": "c815dc2a-8811-4d40-b8a3-eda22be12898"
      },
      "execution_count": 11,
      "outputs": [
        {
          "output_type": "stream",
          "name": "stdout",
          "text": [
            "313/313 [==============================] - 7s 22ms/step - loss: 1.4901 - accuracy: 0.4596\n"
          ]
        },
        {
          "output_type": "execute_result",
          "data": {
            "text/plain": [
              "[1.4900975227355957, 0.4596000015735626]"
            ]
          },
          "metadata": {},
          "execution_count": 11
        }
      ]
    },
    {
      "cell_type": "code",
      "source": [
        "#classification report \n",
        "from sklearn.metrics import confusion_matrix , classification_report\n",
        "import numpy as np\n",
        "y_pred = ann.predict(X_test)\n",
        "y_pred_classes = [np.argmax(element) for element in y_pred]\n",
        "\n",
        "print(\"Classification report : \\n\", classification_report(y_test , y_pred_classes))"
      ],
      "metadata": {
        "colab": {
          "base_uri": "https://localhost:8080/"
        },
        "id": "6SYfKoepd8Ta",
        "outputId": "0ffb5018-3598-4201-f27e-dd771bf3d941"
      },
      "execution_count": 12,
      "outputs": [
        {
          "output_type": "stream",
          "name": "stdout",
          "text": [
            "Classification report : \n",
            "               precision    recall  f1-score   support\n",
            "\n",
            "           0       0.55      0.53      0.54      1000\n",
            "           1       0.69      0.42      0.52      1000\n",
            "           2       0.52      0.08      0.14      1000\n",
            "           3       0.31      0.29      0.30      1000\n",
            "           4       0.37      0.54      0.44      1000\n",
            "           5       0.31      0.53      0.39      1000\n",
            "           6       0.57      0.48      0.52      1000\n",
            "           7       0.74      0.36      0.48      1000\n",
            "           8       0.54      0.69      0.60      1000\n",
            "           9       0.43      0.68      0.53      1000\n",
            "\n",
            "    accuracy                           0.46     10000\n",
            "   macro avg       0.50      0.46      0.45     10000\n",
            "weighted avg       0.50      0.46      0.45     10000\n",
            "\n"
          ]
        }
      ]
    },
    {
      "cell_type": "markdown",
      "source": [
        "Using CNN for imporoved accuracy over ANN\n"
      ],
      "metadata": {
        "id": "8GzHroyJevzW"
      }
    },
    {
      "cell_type": "code",
      "source": [
        "#cnn is convolutional neural network\n",
        "cnn = models.Sequential([\n",
        "                         #cnn\n",
        "                         layers.Conv2D(filters=32 , kernel_size = (3,3) , activation='relu', input_shape=(32,32,3)), #convolutional layer\n",
        "                         layers.MaxPooling2D((2,2)), #pooling layer\n",
        "\n",
        "                         #second layer\n",
        "                         layers.Conv2D(filters=64 , kernel_size = (3,3) , activation='relu'),\n",
        "                         layers.MaxPooling2D((2,2)), #pooling layer\n",
        "\n",
        "\n",
        "                         #dense \n",
        "                         layers.Flatten(),\n",
        "                         layers.Dense(64 , activation='relu'),\n",
        "                         layers.Dense(10,activation = 'softmax')\n",
        "])"
      ],
      "metadata": {
        "id": "APgmHOmIeiGr"
      },
      "execution_count": 13,
      "outputs": []
    },
    {
      "cell_type": "code",
      "source": [
        "cnn.compile(optimizer='adam',\n",
        "              loss='sparse_categorical_crossentropy',\n",
        "              metrics=['accuracy'])"
      ],
      "metadata": {
        "id": "aPL-zs6GgNbP"
      },
      "execution_count": 14,
      "outputs": []
    },
    {
      "cell_type": "code",
      "source": [
        "cnn.fit(X_train , y_train , epochs=10)"
      ],
      "metadata": {
        "colab": {
          "base_uri": "https://localhost:8080/"
        },
        "id": "kwUZLfOhgqdJ",
        "outputId": "f6862714-8598-4291-e596-da75fb94389a"
      },
      "execution_count": 15,
      "outputs": [
        {
          "output_type": "stream",
          "name": "stdout",
          "text": [
            "Epoch 1/10\n",
            "1563/1563 [==============================] - 57s 36ms/step - loss: 1.4986 - accuracy: 0.4581\n",
            "Epoch 2/10\n",
            "1563/1563 [==============================] - 57s 36ms/step - loss: 1.1525 - accuracy: 0.5954\n",
            "Epoch 3/10\n",
            "1563/1563 [==============================] - 57s 36ms/step - loss: 1.0243 - accuracy: 0.6426\n",
            "Epoch 4/10\n",
            "1563/1563 [==============================] - 56s 36ms/step - loss: 0.9391 - accuracy: 0.6725\n",
            "Epoch 5/10\n",
            "1563/1563 [==============================] - 57s 36ms/step - loss: 0.8810 - accuracy: 0.6938\n",
            "Epoch 6/10\n",
            "1563/1563 [==============================] - 56s 36ms/step - loss: 0.8279 - accuracy: 0.7137\n",
            "Epoch 7/10\n",
            "1563/1563 [==============================] - 56s 36ms/step - loss: 0.7834 - accuracy: 0.7287\n",
            "Epoch 8/10\n",
            "1563/1563 [==============================] - 56s 36ms/step - loss: 0.7473 - accuracy: 0.7397\n",
            "Epoch 9/10\n",
            "1563/1563 [==============================] - 56s 36ms/step - loss: 0.7062 - accuracy: 0.7545\n",
            "Epoch 10/10\n",
            "1563/1563 [==============================] - 56s 36ms/step - loss: 0.6708 - accuracy: 0.7643\n"
          ]
        },
        {
          "output_type": "execute_result",
          "data": {
            "text/plain": [
              "<keras.callbacks.History at 0x7fa42a1f7e10>"
            ]
          },
          "metadata": {},
          "execution_count": 15
        }
      ]
    },
    {
      "cell_type": "code",
      "source": [
        "cnn.evaluate(X_test , y_test)"
      ],
      "metadata": {
        "colab": {
          "base_uri": "https://localhost:8080/"
        },
        "id": "3adLtrqTguyf",
        "outputId": "f98ef94a-7b64-4e4a-e4c8-2cea2a7636b6"
      },
      "execution_count": 16,
      "outputs": [
        {
          "output_type": "stream",
          "name": "stdout",
          "text": [
            "313/313 [==============================] - 4s 11ms/step - loss: 0.9174 - accuracy: 0.7015\n"
          ]
        },
        {
          "output_type": "execute_result",
          "data": {
            "text/plain": [
              "[0.9174095988273621, 0.7014999985694885]"
            ]
          },
          "metadata": {},
          "execution_count": 16
        }
      ]
    },
    {
      "cell_type": "code",
      "source": [
        "y_test = y_test.reshape(-1,)\n",
        "plot_sample(X_test , y_test , 1)"
      ],
      "metadata": {
        "colab": {
          "base_uri": "https://localhost:8080/",
          "height": 173
        },
        "id": "9OgfO8Y_b09H",
        "outputId": "c3bf3b61-b733-451d-b608-119fefe842e2"
      },
      "execution_count": 17,
      "outputs": [
        {
          "output_type": "display_data",
          "data": {
            "image/png": "[encoded data removed]",
            "text/plain": [
              "<Figure size 1080x144 with 1 Axes>"
            ]
          },
          "metadata": {
            "needs_background": "light"
          }
        }
      ]
    },
    {
      "cell_type": "code",
      "source": [
        "y_pred = cnn.predict(X_test)\n",
        "y_pred[:5]"
      ],
      "metadata": {
        "colab": {
          "base_uri": "https://localhost:8080/"
        },
        "id": "iYZ7YboRgqnZ",
        "outputId": "787234f0-69d6-4113-e4fd-5bafd5e15312"
      },
      "execution_count": 18,
      "outputs": [
        {
          "output_type": "execute_result",
          "data": {
            "text/plain": [
              "array([[7.3645113e-04, 9.1692078e-04, 1.9929212e-04, 8.8124520e-01,\n",
              "        1.8918654e-04, 7.5927846e-02, 2.1976110e-02, 4.0329338e-04,\n",
              "        1.4576464e-02, 3.8293328e-03],\n",
              "       [2.5237520e-04, 2.3137175e-03, 3.2213436e-06, 1.6690363e-05,\n",
              "        7.3179578e-08, 2.7502955e-07, 2.4165168e-09, 4.1825245e-07,\n",
              "        9.9703264e-01, 3.8056364e-04],\n",
              "       [9.6174337e-02, 2.2560959e-01, 2.1369592e-03, 2.3099402e-02,\n",
              "        5.9604808e-03, 9.2452223e-04, 8.7336265e-04, 3.4453415e-03,\n",
              "        5.2326131e-01, 1.1851466e-01],\n",
              "       [2.2946469e-01, 5.9665608e-01, 1.5365800e-02, 1.4348718e-03,\n",
              "        1.0730774e-01, 6.7134592e-05, 1.6772663e-04, 2.8417713e-03,\n",
              "        4.5581754e-02, 1.1124329e-03],\n",
              "       [3.0339537e-05, 1.8389526e-05, 1.3563997e-02, 3.8019612e-02,\n",
              "        3.3971560e-01, 3.4852822e-03, 6.0509157e-01, 2.0596628e-05,\n",
              "        4.2945609e-05, 1.1759423e-05]], dtype=float32)"
            ]
          },
          "metadata": {},
          "execution_count": 18
        }
      ]
    },
    {
      "cell_type": "code",
      "source": [
        "y_classes = [np.argmax(element) for element in y_pred]\n",
        "y_classes[:5]"
      ],
      "metadata": {
        "colab": {
          "base_uri": "https://localhost:8080/"
        },
        "id": "gYGUXg_4jnmb",
        "outputId": "8cf4a2a8-99d6-428c-a7cb-8912399e7bb4"
      },
      "execution_count": 19,
      "outputs": [
        {
          "output_type": "execute_result",
          "data": {
            "text/plain": [
              "[3, 8, 8, 1, 6]"
            ]
          },
          "metadata": {},
          "execution_count": 19
        }
      ]
    },
    {
      "cell_type": "code",
      "source": [
        "print(\"Classification report : \\n\", classification_report(y_test , y_classes))"
      ],
      "metadata": {
        "colab": {
          "base_uri": "https://localhost:8080/"
        },
        "id": "0YrCO4AExRmq",
        "outputId": "e3bfc57d-2bde-4d10-f5fd-493fcb74289b"
      },
      "execution_count": 20,
      "outputs": [
        {
          "output_type": "stream",
          "name": "stdout",
          "text": [
            "Classification report : \n",
            "               precision    recall  f1-score   support\n",
            "\n",
            "           0       0.75      0.74      0.75      1000\n",
            "           1       0.82      0.81      0.81      1000\n",
            "           2       0.81      0.38      0.51      1000\n",
            "           3       0.54      0.51      0.52      1000\n",
            "           4       0.58      0.71      0.64      1000\n",
            "           5       0.55      0.68      0.61      1000\n",
            "           6       0.78      0.79      0.79      1000\n",
            "           7       0.72      0.76      0.74      1000\n",
            "           8       0.84      0.79      0.81      1000\n",
            "           9       0.74      0.85      0.79      1000\n",
            "\n",
            "    accuracy                           0.70     10000\n",
            "   macro avg       0.71      0.70      0.70     10000\n",
            "weighted avg       0.71      0.70      0.70     10000\n",
            "\n"
          ]
        }
      ]
    },
    {
      "cell_type": "code",
      "source": [
        " "
      ],
      "metadata": {
        "id": "BSyZp0P3xdLX"
      },
      "execution_count": null,
      "outputs": []
    }
  ]
}